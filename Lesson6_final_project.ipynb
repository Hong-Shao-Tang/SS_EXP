{
 "cells": [
  {
   "attachments": {},
   "cell_type": "markdown",
   "metadata": {},
   "source": [
    "# 信號與系統實習:期末專題心跳信號量測"
   ]
  },
  {
   "cell_type": "markdown",
   "metadata": {},
   "source": [
    "## 時程表\n",
    "\n",
    "* 12/19 分組、發放材料、Arduino 實驗板測試、心跳波形顯示\n",
    "* 12/26 自由使用實驗教室9\n",
    "* 1/2 期末demo"
   ]
  },
  {
   "cell_type": "markdown",
   "metadata": {},
   "source": [
    "# 期末專題佔總成績20%\n",
    "\n",
    "## 期末專題評分方式\n",
    "\n",
    "## (一) 即時心跳波形顯示佔 40%\n",
    "## (二) 書面報告佔 20%\n",
    "* 每人各别繳交一份，並附上組員互相評分，例如組員AB, A: 90，B:80\n",
    "* 報告繳交(1/1 5:00 PM)之前以pdf格式email至教師信箱\n",
    "\n",
    "\n",
    "## (三)額外加分項目各佔5%\n",
    "* (1)即時心率計算 \n",
    "* (2)即時頻譜顯示，橫軸以 (Hz)計算，並能看出心跳頻帶\n",
    "* (3)設計一FIR filter ，說明其設計過濾頻帶，畫出頻率響應圖，並顯示濾波前後結果。\n",
    "* (4)1分鐘期末專題簡介影片製作，影片繳交(1/1 5:00 PM)之前以youtube連結繳交\n",
    "* (5)以科學實驗量測並記錄十人以上之心率，並探討系統之量測準確性\n",
    "* (6)視窗介面製作，應具備(按鈕、心率、濾波功能等要素)\n",
    "\n",
    "## (四)任選加分項目 10% (視完成度給分，最多加10分)\n",
    "* (1)手機連結顯示\n",
    "* (2)以網頁雲端介面即時顯示心跳波形及心率計算\n",
    "* (3)心率變異性(Heart Rate Variability, HRV)計算\n",
    "\n",
    "\n",
    "\n"
   ]
  },
  {
   "cell_type": "code",
   "execution_count": null,
   "metadata": {},
   "outputs": [],
   "source": []
  }
 ],
 "metadata": {
  "kernelspec": {
   "display_name": "Python 3",
   "language": "python",
   "name": "python3"
  },
  "language_info": {
   "codemirror_mode": {
    "name": "ipython",
    "version": 3
   },
   "file_extension": ".py",
   "mimetype": "text/x-python",
   "name": "python",
   "nbconvert_exporter": "python",
   "pygments_lexer": "ipython3",
   "version": "3.6.4"
  }
 },
 "nbformat": 4,
 "nbformat_minor": 2
}
